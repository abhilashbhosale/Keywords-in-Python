{
 "cells": [
  {
   "cell_type": "markdown",
   "id": "7e9e1c76-3562-4c74-948d-aad2d3338a00",
   "metadata": {},
   "source": [
    "## Keywords in Python"
   ]
  },
  {
   "cell_type": "code",
   "execution_count": 1,
   "id": "71d7e1d3-987e-44f8-9da8-7a2399a1161f",
   "metadata": {},
   "outputs": [],
   "source": [
    "# Keywords in python"
   ]
  },
  {
   "cell_type": "code",
   "execution_count": 2,
   "id": "80b036fc-53be-4843-a75c-7099ec413f49",
   "metadata": {},
   "outputs": [
    {
     "name": "stdout",
     "output_type": "stream",
     "text": [
      "Result =  30\n"
     ]
    }
   ],
   "source": [
    "a = 10\n",
    "b = 20\n",
    "c = a+b\n",
    "\n",
    "print(\"Result = \", c)"
   ]
  },
  {
   "cell_type": "code",
   "execution_count": 3,
   "id": "fd756c3d-da9d-4f3e-b380-d7c96ca21bfd",
   "metadata": {},
   "outputs": [
    {
     "ename": "SyntaxError",
     "evalue": "invalid syntax (3825012630.py, line 1)",
     "output_type": "error",
     "traceback": [
      "\u001b[1;36m  Cell \u001b[1;32mIn[3], line 1\u001b[1;36m\u001b[0m\n\u001b[1;33m    for = 100\u001b[0m\n\u001b[1;37m        ^\u001b[0m\n\u001b[1;31mSyntaxError\u001b[0m\u001b[1;31m:\u001b[0m invalid syntax\n"
     ]
    }
   ],
   "source": [
    " for = 100\n",
    "elif = 200\n",
    "from = for + elif\n",
    "\n",
    "print(\"Result is =\", from)"
   ]
  },
  {
   "cell_type": "code",
   "execution_count": 4,
   "id": "5a4a4b9d-4364-403e-87c8-ce2c3bbe41ee",
   "metadata": {},
   "outputs": [],
   "source": [
    "# Keywords in python are the words that are reserved . \n",
    "# these keywords can not be use other than there assigned work.\n",
    "# meaning of these keywords are already defined. that can not be changed.\n",
    "# if used, then it will give syntax error like above."
   ]
  },
  {
   "cell_type": "code",
   "execution_count": 5,
   "id": "dcecda3b-5619-4122-888a-2f2eadd5a2f7",
   "metadata": {},
   "outputs": [],
   "source": [
    "# to get the list of all the keywords in python, we will use short programm."
   ]
  },
  {
   "cell_type": "code",
   "execution_count": 11,
   "id": "e42bfa31-276f-4aaa-8fd8-8e87582e9f09",
   "metadata": {},
   "outputs": [],
   "source": [
    "import keyword\n"
   ]
  },
  {
   "cell_type": "code",
   "execution_count": 13,
   "id": "ad5c7cb5-c5c9-45d9-91f1-3ff7148c7531",
   "metadata": {},
   "outputs": [
    {
     "name": "stdout",
     "output_type": "stream",
     "text": [
      "['False', 'None', 'True', 'and', 'as', 'assert', 'async', 'await', 'break', 'class', 'continue', 'def', 'del', 'elif', 'else', 'except', 'finally', 'for', 'from', 'global', 'if', 'import', 'in', 'is', 'lambda', 'nonlocal', 'not', 'or', 'pass', 'raise', 'return', 'try', 'while', 'with', 'yield']\n"
     ]
    }
   ],
   "source": [
    "print(keyword.kwlist)"
   ]
  },
  {
   "cell_type": "code",
   "execution_count": 14,
   "id": "b10a0908-37c5-4922-8172-1bd569067c48",
   "metadata": {},
   "outputs": [
    {
     "data": {
      "text/plain": [
       "['False',\n",
       " 'None',\n",
       " 'True',\n",
       " 'and',\n",
       " 'as',\n",
       " 'assert',\n",
       " 'async',\n",
       " 'await',\n",
       " 'break',\n",
       " 'class',\n",
       " 'continue',\n",
       " 'def',\n",
       " 'del',\n",
       " 'elif',\n",
       " 'else',\n",
       " 'except',\n",
       " 'finally',\n",
       " 'for',\n",
       " 'from',\n",
       " 'global',\n",
       " 'if',\n",
       " 'import',\n",
       " 'in',\n",
       " 'is',\n",
       " 'lambda',\n",
       " 'nonlocal',\n",
       " 'not',\n",
       " 'or',\n",
       " 'pass',\n",
       " 'raise',\n",
       " 'return',\n",
       " 'try',\n",
       " 'while',\n",
       " 'with',\n",
       " 'yield']"
      ]
     },
     "execution_count": 14,
     "metadata": {},
     "output_type": "execute_result"
    }
   ],
   "source": [
    "['False', 'None', 'True', 'and', 'as', 'assert', 'async', 'await', 'break', 'class', 'continue', 'def', 'del', 'elif', 'else', 'except', 'finally', 'for', 'from', 'global', 'if', 'import', 'in', 'is', 'lambda', 'nonlocal', 'not', 'or', 'pass', 'raise', 'return', 'try', 'while', 'with', 'yield']"
   ]
  },
  {
   "cell_type": "code",
   "execution_count": null,
   "id": "765c568f-111f-48af-aeef-20e01571e314",
   "metadata": {},
   "outputs": [],
   "source": [
    "# these keywords can not be used as variable name or any other assigned names."
   ]
  }
 ],
 "metadata": {
  "kernelspec": {
   "display_name": "Python 3 (ipykernel)",
   "language": "python",
   "name": "python3"
  },
  "language_info": {
   "codemirror_mode": {
    "name": "ipython",
    "version": 3
   },
   "file_extension": ".py",
   "mimetype": "text/x-python",
   "name": "python",
   "nbconvert_exporter": "python",
   "pygments_lexer": "ipython3",
   "version": "3.12.7"
  }
 },
 "nbformat": 4,
 "nbformat_minor": 5
}
